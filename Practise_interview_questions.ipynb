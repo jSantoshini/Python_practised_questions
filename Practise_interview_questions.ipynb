{
 "cells": [
  {
   "cell_type": "code",
   "execution_count": 1,
   "id": "1fad472b",
   "metadata": {},
   "outputs": [],
   "source": [
    "# q1:https://www.youtube.com/watch?v=T6NU0cI4zHk&ab_channel=GeekCoders\n",
    "input_list = [1,2,[7,3,67,[4,55]],19,32]\n",
    "# output should be [1,2,,7,3,67,4,55,19,32]"
   ]
  },
  {
   "cell_type": "code",
   "execution_count": 2,
   "id": "f868ca11",
   "metadata": {},
   "outputs": [
    {
     "data": {
      "text/plain": [
       "[1, 2, 7, 3, 67, 4, 55, 19, 32]"
      ]
     },
     "execution_count": 2,
     "metadata": {},
     "output_type": "execute_result"
    }
   ],
   "source": [
    "def f_flatten(input_list):\n",
    "    l=[]\n",
    "    for i in input_list:\n",
    "        if(type(i) is list):\n",
    "            l.extend(f_flatten(i))\n",
    "        else:\n",
    "            l.append(i)\n",
    "    return l\n",
    "f_flatten(input_list)"
   ]
  },
  {
   "cell_type": "code",
   "execution_count": 3,
   "id": "2ba03f71",
   "metadata": {},
   "outputs": [],
   "source": [
    "# ankith bansal questions\n",
    "#  https://www.youtube.com/watch?v=F6QZutbRt2Y&ab_channel=AnkitBansal"
   ]
  },
  {
   "cell_type": "code",
   "execution_count": 4,
   "id": "28c79e6c",
   "metadata": {},
   "outputs": [],
   "source": [
    "emp_list=[('Ankit',10000),('Rahul',12000),('Sumit',14000),('Dheeraj',21000),('Pavan',11000),('Mohit',13000)] # list of tuples"
   ]
  },
  {
   "cell_type": "code",
   "execution_count": 5,
   "id": "dc130fd4",
   "metadata": {},
   "outputs": [],
   "source": [
    "## we need to employee, salary whose salary is graeter than avg salary of company"
   ]
  },
  {
   "cell_type": "code",
   "execution_count": 6,
   "id": "ed9cccfa",
   "metadata": {},
   "outputs": [],
   "source": [
    "def get_avg_salary(emp_list):\n",
    "    total_salary = 0\n",
    "    for name,salary in emp_list:\n",
    "        total_salary = salary+total_salary\n",
    "    return total_salary/len(emp_list)"
   ]
  },
  {
   "cell_type": "code",
   "execution_count": 7,
   "id": "da982139",
   "metadata": {},
   "outputs": [
    {
     "data": {
      "text/plain": [
       "13500.0"
      ]
     },
     "execution_count": 7,
     "metadata": {},
     "output_type": "execute_result"
    }
   ],
   "source": [
    "get_avg_salary(emp_list)"
   ]
  },
  {
   "cell_type": "code",
   "execution_count": 8,
   "id": "b29f305e",
   "metadata": {},
   "outputs": [],
   "source": [
    "avg_salary = get_avg_salary(emp_list)"
   ]
  },
  {
   "cell_type": "code",
   "execution_count": 9,
   "id": "6263034c",
   "metadata": {},
   "outputs": [],
   "source": [
    "my_list = []\n",
    "for name,salary in emp_list:\n",
    "    if salary>avg_salary:\n",
    "        my_list.append((name,salary))\n",
    "        "
   ]
  },
  {
   "cell_type": "code",
   "execution_count": 10,
   "id": "de1f8775",
   "metadata": {},
   "outputs": [
    {
     "data": {
      "text/plain": [
       "[('Sumit', 14000), ('Dheeraj', 21000)]"
      ]
     },
     "execution_count": 10,
     "metadata": {},
     "output_type": "execute_result"
    }
   ],
   "source": [
    "my_list"
   ]
  },
  {
   "cell_type": "markdown",
   "id": "b9b435ad",
   "metadata": {},
   "source": [
    "# 1. Python program to check prime numbers"
   ]
  },
  {
   "cell_type": "code",
   "execution_count": 11,
   "id": "383a914d",
   "metadata": {},
   "outputs": [],
   "source": [
    "#\n",
    "def prime(n):\n",
    "    if n==0 or n==1:\n",
    "        print(\"not a prime number\")\n",
    "    elif n>1:\n",
    "        flag = 1\n",
    "        for i in range(2,n):\n",
    "            if i%n==0:\n",
    "                flag = 0\n",
    "                break\n",
    "        if flag == 1:\n",
    "            print(\"prime number\")\n",
    "        else:\n",
    "            print(\"no a prime number\")"
   ]
  },
  {
   "cell_type": "code",
   "execution_count": 12,
   "id": "1a0dad43",
   "metadata": {},
   "outputs": [
    {
     "name": "stdout",
     "output_type": "stream",
     "text": [
      "not a prime number\n"
     ]
    }
   ],
   "source": [
    "prime(0)"
   ]
  },
  {
   "cell_type": "markdown",
   "id": "b523f64c",
   "metadata": {},
   "source": [
    "# 2. Program to find a factorail of a number"
   ]
  },
  {
   "cell_type": "code",
   "execution_count": 13,
   "id": "4f79ba11",
   "metadata": {},
   "outputs": [
    {
     "data": {
      "text/plain": [
       "120"
      ]
     },
     "execution_count": 13,
     "metadata": {},
     "output_type": "execute_result"
    }
   ],
   "source": [
    "# Program to find a factorail of a number\n",
    "def fact(n):\n",
    "    if n==1 or n==0:\n",
    "        return 1\n",
    "    else:\n",
    "        return n*fact(n-1)\n",
    "fact(5)"
   ]
  },
  {
   "cell_type": "markdown",
   "id": "3c9a1297",
   "metadata": {},
   "source": [
    "# 3. program for nth fibonacci number"
   ]
  },
  {
   "cell_type": "code",
   "execution_count": 14,
   "id": "3cfa9a13",
   "metadata": {},
   "outputs": [],
   "source": [
    "#It is the series of numbers where each number is the sum of 2 preceding numbers. for example 0,1,1,2,3,5,8,13,21...\n",
    "def fib(n):\n",
    "    if n==1:\n",
    "        return 0\n",
    "    elif n==2:\n",
    "        return 1\n",
    "    else:\n",
    "        return fib(n-1)+fib(n-2)"
   ]
  },
  {
   "cell_type": "code",
   "execution_count": 15,
   "id": "6b480754",
   "metadata": {},
   "outputs": [
    {
     "data": {
      "text/plain": [
       "5"
      ]
     },
     "execution_count": 15,
     "metadata": {},
     "output_type": "execute_result"
    }
   ],
   "source": [
    "fib(6)"
   ]
  },
  {
   "cell_type": "markdown",
   "id": "87ecf8b7",
   "metadata": {},
   "source": [
    "# 4. python program  first n natural number\n",
    "##### natural numbers starts from 1 to infinity"
   ]
  },
  {
   "cell_type": "code",
   "execution_count": 16,
   "id": "e29201d0",
   "metadata": {},
   "outputs": [],
   "source": [
    "def natural(n):\n",
    "    sum = 0\n",
    "    for i in range(1,n+1):\n",
    "        sum+=i*i\n",
    "    return sum"
   ]
  },
  {
   "cell_type": "code",
   "execution_count": 17,
   "id": "07493ec8",
   "metadata": {},
   "outputs": [
    {
     "data": {
      "text/plain": [
       "30"
      ]
     },
     "execution_count": 17,
     "metadata": {},
     "output_type": "execute_result"
    }
   ],
   "source": [
    "natural(4)"
   ]
  },
  {
   "cell_type": "markdown",
   "id": "7a6ea595",
   "metadata": {},
   "source": [
    "# 5. Python program for armstrong number"
   ]
  },
  {
   "cell_type": "markdown",
   "id": "b2f9daaa",
   "metadata": {},
   "source": [
    "###### it is a number that is equal to sum of digits, each raised to power of the number of digits in the number\n",
    "153 = 1^3+5^3+3^3"
   ]
  },
  {
   "cell_type": "code",
   "execution_count": 18,
   "id": "6ffcf716",
   "metadata": {},
   "outputs": [],
   "source": [
    "def armstrong(n):\n",
    "    sum = 0\n",
    "    temp = n\n",
    "    length = len(str(n))\n",
    "    \n",
    "    while temp>0:\n",
    "        digit = temp%10\n",
    "        sum += digit**length\n",
    "        temp = temp//10\n",
    "    if n == sum:\n",
    "        print('it is an armstrong number')\n",
    "    else:\n",
    "        print('it is not an armstrong number')"
   ]
  },
  {
   "cell_type": "code",
   "execution_count": 19,
   "id": "66ae27af",
   "metadata": {},
   "outputs": [
    {
     "name": "stdout",
     "output_type": "stream",
     "text": [
      "it is an armstrong number\n"
     ]
    }
   ],
   "source": [
    "armstrong(153)"
   ]
  },
  {
   "cell_type": "markdown",
   "id": "d5843c18",
   "metadata": {},
   "source": [
    "# 6. python program for sum of array with out using function"
   ]
  },
  {
   "cell_type": "code",
   "execution_count": 20,
   "id": "a2d10b3a",
   "metadata": {},
   "outputs": [
    {
     "data": {
      "text/plain": [
       "25"
      ]
     },
     "execution_count": 20,
     "metadata": {},
     "output_type": "execute_result"
    }
   ],
   "source": [
    "l= [2,4,6,5,3,5]\n",
    "def summation(l):\n",
    "    sum = 0\n",
    "    for i in l:\n",
    "        sum+=i\n",
    "    return sum\n",
    "summation(l)"
   ]
  },
  {
   "cell_type": "markdown",
   "id": "51ab0dbb",
   "metadata": {},
   "source": [
    "# 7. Python program to find large number in array"
   ]
  },
  {
   "cell_type": "code",
   "execution_count": 21,
   "id": "d12ce7c4",
   "metadata": {},
   "outputs": [
    {
     "name": "stdout",
     "output_type": "stream",
     "text": [
      "88\n"
     ]
    }
   ],
   "source": [
    "arr = [2,3,44,6,88,27]\n",
    "max= 0\n",
    "for i in arr:\n",
    "    if i>max:\n",
    "        max=i\n",
    "print(max)"
   ]
  },
  {
   "cell_type": "markdown",
   "id": "9e46b51b",
   "metadata": {},
   "source": [
    "# 8.Python program to array rotation"
   ]
  },
  {
   "cell_type": "code",
   "execution_count": 22,
   "id": "8d321425",
   "metadata": {},
   "outputs": [
    {
     "data": {
      "text/plain": [
       "[10, 8, 7]"
      ]
     },
     "execution_count": 22,
     "metadata": {},
     "output_type": "execute_result"
    }
   ],
   "source": [
    "arr =[7,8,10]\n",
    "arr[::-1]"
   ]
  },
  {
   "cell_type": "code",
   "execution_count": 23,
   "id": "56a663d0",
   "metadata": {},
   "outputs": [
    {
     "data": {
      "text/plain": [
       "[10, 8, 7]"
      ]
     },
     "execution_count": 23,
     "metadata": {},
     "output_type": "execute_result"
    }
   ],
   "source": [
    "[arr[i] for i in range(len(arr)-1,-1,-1)]"
   ]
  },
  {
   "cell_type": "markdown",
   "id": "eb4ff1c0",
   "metadata": {},
   "source": [
    "# 9. Python program to interchange the 1st and last digits in array\n"
   ]
  },
  {
   "cell_type": "code",
   "execution_count": 24,
   "id": "ad8239bd",
   "metadata": {},
   "outputs": [
    {
     "data": {
      "text/plain": [
       "[45, 2, 3, 4, 1]"
      ]
     },
     "execution_count": 24,
     "metadata": {},
     "output_type": "execute_result"
    }
   ],
   "source": [
    "a = [1,2,3,4,45]\n",
    "a[0],a[-1] = a[-1],a[0]\n",
    "a"
   ]
  },
  {
   "cell_type": "markdown",
   "id": "662a072b",
   "metadata": {},
   "source": [
    "# 10.Python progrma to check where the given string is polindrome or not"
   ]
  },
  {
   "cell_type": "code",
   "execution_count": 25,
   "id": "eef00cce",
   "metadata": {},
   "outputs": [
    {
     "name": "stdout",
     "output_type": "stream",
     "text": [
      "polindrome\n"
     ]
    }
   ],
   "source": [
    "s = \"malayalam\"\n",
    "if s == s[::-1]:\n",
    "    print(\"polindrome\")\n",
    "else:\n",
    "    print(\"not a polindrome\")"
   ]
  },
  {
   "cell_type": "code",
   "execution_count": 28,
   "id": "74d22585",
   "metadata": {},
   "outputs": [
    {
     "name": "stdout",
     "output_type": "stream",
     "text": [
      "olleh\n"
     ]
    }
   ],
   "source": [
    "# methos 2:\n",
    "s= \"hello\"\n",
    "a=''\n",
    "for i in s:\n",
    "    a= i+a\n",
    "print(a)"
   ]
  },
  {
   "cell_type": "code",
   "execution_count": 30,
   "id": "2cd443c4",
   "metadata": {},
   "outputs": [
    {
     "name": "stdout",
     "output_type": "stream",
     "text": [
      "it is a polindrome\n"
     ]
    }
   ],
   "source": [
    "# methos 2:\n",
    "s= \"malayalam\"\n",
    "a=''\n",
    "for i in s:\n",
    "    a= i+a\n",
    "if a==s:\n",
    "    print(\"it is a polindrome\")\n",
    "else:\n",
    "    print(\"not a polindrome\")"
   ]
  },
  {
   "cell_type": "markdown",
   "id": "b0beb57e",
   "metadata": {},
   "source": [
    "# 11.Revers words in a given sentence"
   ]
  },
  {
   "cell_type": "code",
   "execution_count": 38,
   "id": "af8573b4",
   "metadata": {},
   "outputs": [
    {
     "data": {
      "text/plain": [
       "'you are how santoshi Hi'"
      ]
     },
     "execution_count": 38,
     "metadata": {},
     "output_type": "execute_result"
    }
   ],
   "source": [
    "t = \" Hi santoshi how are you\"\n",
    "l = t.split()[::-1]\n",
    "a= ' '.join(l)\n",
    "a"
   ]
  },
  {
   "cell_type": "markdown",
   "id": "b0358c86",
   "metadata": {},
   "source": [
    "# 12. How to remove letters in string"
   ]
  },
  {
   "cell_type": "code",
   "execution_count": 44,
   "id": "70142576",
   "metadata": {},
   "outputs": [
    {
     "data": {
      "text/plain": [
       "'get a pet'"
      ]
     },
     "execution_count": 44,
     "metadata": {},
     "output_type": "execute_result"
    }
   ],
   "source": [
    "t = 'got a pot'\n",
    "t.replace('o','e')"
   ]
  },
  {
   "cell_type": "markdown",
   "id": "55992895",
   "metadata": {},
   "source": [
    "# 13. write a python program to count frequency of word in a sentence"
   ]
  },
  {
   "cell_type": "code",
   "execution_count": 47,
   "id": "7462bac7",
   "metadata": {},
   "outputs": [
    {
     "name": "stdout",
     "output_type": "stream",
     "text": [
      "{'hello': 3, 'hi': 2, 'how': 1, 'are': 1, 'you': 1}\n"
     ]
    }
   ],
   "source": [
    "t = 'hello hi hello hi how are you hello'\n",
    "s = t.split()\n",
    "d={}\n",
    "for i in s:\n",
    "    if i in d:\n",
    "        d[i]+=1\n",
    "    else:\n",
    "        d[i]=1\n",
    "print(d)"
   ]
  },
  {
   "cell_type": "markdown",
   "id": "fd40b850",
   "metadata": {},
   "source": [
    "# 14. Python program to remove all duplicates from given string"
   ]
  },
  {
   "cell_type": "code",
   "execution_count": 50,
   "id": "f6d0ca53",
   "metadata": {},
   "outputs": [
    {
     "name": "stdout",
     "output_type": "stream",
     "text": [
      "gekfors\n"
     ]
    }
   ],
   "source": [
    "s= \"geekforgeeks\"\n",
    "a=''\n",
    "for i in s:\n",
    "    if i in a:\n",
    "        pass\n",
    "    else:\n",
    "        a+=i\n",
    "print(a)"
   ]
  },
  {
   "cell_type": "code",
   "execution_count": null,
   "id": "b66dc240",
   "metadata": {},
   "outputs": [],
   "source": []
  }
 ],
 "metadata": {
  "kernelspec": {
   "display_name": "Python 3 (ipykernel)",
   "language": "python",
   "name": "python3"
  },
  "language_info": {
   "codemirror_mode": {
    "name": "ipython",
    "version": 3
   },
   "file_extension": ".py",
   "mimetype": "text/x-python",
   "name": "python",
   "nbconvert_exporter": "python",
   "pygments_lexer": "ipython3",
   "version": "3.9.13"
  }
 },
 "nbformat": 4,
 "nbformat_minor": 5
}
